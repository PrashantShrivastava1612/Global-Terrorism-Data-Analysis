{
  "nbformat": 4,
  "nbformat_minor": 0,
  "metadata": {
    "kernelspec": {
      "display_name": "Python 3",
      "language": "python",
      "name": "python3"
    },
    "language_info": {
      "codemirror_mode": {
        "name": "ipython",
        "version": 3
      },
      "file_extension": ".py",
      "mimetype": "text/x-python",
      "name": "python",
      "nbconvert_exporter": "python",
      "pygments_lexer": "ipython3",
      "version": "3.6.6"
    },
    "colab": {
      "name": "Global Terrorism Analysis - Capstone Project.ipynb",
      "provenance": [],
      "collapsed_sections": [],
      "include_colab_link": true
    }
  },
  "cells": [
    {
      "cell_type": "markdown",
      "metadata": {
        "id": "view-in-github",
        "colab_type": "text"
      },
      "source": [
        "<a href=\"https://colab.research.google.com/github/PrashantShrivastava1612/Global-Terrorism-Data-Analysis/blob/main/Global_Terrorism_Analysis_Capstone_Project.ipynb\" target=\"_parent\"><img src=\"https://colab.research.google.com/assets/colab-badge.svg\" alt=\"Open In Colab\"/></a>"
      ]
    },
    {
      "cell_type": "markdown",
      "metadata": {
        "id": "Y06xIdG26kRF"
      },
      "source": [
        "## <b> The Global Terrorism Database (GTD) is an open-source database including information on terrorist attacks around the world from 1970 through 2017. The GTD includes systematic data on domestic as well as international terrorist incidents that have occurred during this time period and now includes more than 180,000 attacks. The database is maintained by researchers at the National Consortium for the Study of Terrorism and Responses to Terrorism (START), headquartered at the University of Maryland.</b>\n",
        "\n",
        "# <b> Explore and analyze the data to discover key findings pertaining to terrorist activities. </b>"
      ]
    },
    {
      "cell_type": "code",
      "metadata": {
        "id": "dByMsuzT8Tnw"
      },
      "source": [
        "# Import statements\n",
        "import pandas as pd\n",
        "import numpy as np\n",
        "import matplotlib.pyplot as plt\n",
        "import seaborn as sns\n",
        "import plotly.express as px"
      ],
      "execution_count": null,
      "outputs": []
    },
    {
      "cell_type": "code",
      "source": [
        "from google.colab import drive\n",
        "drive.mount('/content/drive')"
      ],
      "metadata": {
        "id": "RVueM09-11o3"
      },
      "execution_count": null,
      "outputs": []
    },
    {
      "cell_type": "code",
      "source": [
        "file_path = \"/content/drive/MyDrive/AlmaBetter /Capstone Project/Global Terrorism Analysis/Global Terrorism Data.csv\"\n",
        "gt_df = pd.read_csv(file_path,encoding = \"ISO-8859-1\")"
      ],
      "metadata": {
        "id": "j5ETBkT911rz"
      },
      "execution_count": null,
      "outputs": []
    },
    {
      "cell_type": "code",
      "source": [
        "# This will allow the columns to be displayed. As there are 135 columns.\n",
        "# pd.set_option('display.max_columns', None)"
      ],
      "metadata": {
        "id": "j1Hmnv_d5wXS"
      },
      "execution_count": null,
      "outputs": []
    },
    {
      "cell_type": "code",
      "source": [
        "gt_df.head()"
      ],
      "metadata": {
        "id": "UswoiIX311wn"
      },
      "execution_count": null,
      "outputs": []
    },
    {
      "cell_type": "code",
      "source": [
        "gt_df.tail() "
      ],
      "metadata": {
        "id": "k7gx_dgZ11zV"
      },
      "execution_count": null,
      "outputs": []
    },
    {
      "cell_type": "code",
      "source": [
        "gt_df.info"
      ],
      "metadata": {
        "id": "yJdaw5_BSe4E"
      },
      "execution_count": null,
      "outputs": []
    },
    {
      "cell_type": "code",
      "source": [
        "gt_df.describe()"
      ],
      "metadata": {
        "id": "aToohS-nPVQf"
      },
      "execution_count": null,
      "outputs": []
    },
    {
      "cell_type": "code",
      "source": [
        "print(gt_df.columns)      "
      ],
      "metadata": {
        "id": "uHz5MhS_YuRh"
      },
      "execution_count": null,
      "outputs": []
    },
    {
      "cell_type": "code",
      "source": [
        "print(pd.DataFrame(gt_df.isna().sum()).T)"
      ],
      "metadata": {
        "id": "CeWvoJby4Kfh"
      },
      "execution_count": null,
      "outputs": []
    },
    {
      "cell_type": "markdown",
      "source": [
        " Most of the columns have null values here. some have nearly 40-50% null values so removing those columns would be a better option."
      ],
      "metadata": {
        "id": "upN6Qn-jabzF"
      }
    },
    {
      "cell_type": "code",
      "source": [
        "#selecting only those columns which are usefull and dont have high number of null values\n",
        "\n",
        "gt_df.rename(columns = {\"attacktype1_txt\":'attack_type',\"country_txt\":'country_name',\"iday\":'day', \"imonth\":'month', \"iyear\":'year',\"natlty1_txt\":'nationality',\n",
        "              \"region_txt\":'region',\"targtype1_txt\":'target',\"weaptype1_txt\":'weapon',\"gname\":'gang'}, inplace = True)\n",
        "df = gt_df[['attack_type','city' ,'country_name' ,'gang' ,'day' ,'month' ,'year' \n",
        "            ,'nkill' ,'success' ,'nationality' ,'provstate' ,'region' ,'target1' \n",
        "            ,'target' ,'weapon' ,'latitude' ,'longitude']]\n",
        "df.head(3)"
      ],
      "metadata": {
        "id": "dLSWQQ0BSg3X"
      },
      "execution_count": null,
      "outputs": []
    },
    {
      "cell_type": "markdown",
      "source": [
        "<!-- # Q1: Number of attack per year \n",
        "# Q2: World Wide what are the major attack_types used?\n",
        "# Q3: Geographic Representation on Map, in which places attacks have been done since 1970\n",
        "# Q4: Top 6 highly attacked regions in india with different attack types\n",
        "# Q5: Weapon used per Attacktype in India\n",
        "# Q6: Number of attacks per attack type in top 10 most attacked countries ?\n",
        "# Q7: Terrorist group attacking most number of times? -->"
      ],
      "metadata": {
        "id": "psxzYyecxmAO"
      }
    },
    {
      "cell_type": "markdown",
      "source": [
        " ### important insights to draw from the data\n",
        " ##### Q1: Number of attack per year \n",
        " ##### Q2: World Wide what are the major attack_types used?\n",
        " ##### Q3: Geographic Representation on Map, in which places attacks have been done since 1970\n",
        " ##### Q4: Top 6 highly attacked regions in india with different attack types\n",
        " ##### Q5: Weapon used per Attacktype in India\n",
        " ##### Q6: Number of attacks per attack type in top 10 most attacked countries ?\n",
        " ##### Q7: Terrorist group attacking most number of times?"
      ],
      "metadata": {
        "id": "j_rYQjQtfHhE"
      }
    },
    {
      "cell_type": "markdown",
      "source": [
        "## Number of attack per year"
      ],
      "metadata": {
        "id": "PE1VmCnMyO_H"
      }
    },
    {
      "cell_type": "code",
      "source": [
        "Atk_pr_yr = df.groupby(['year'])['year'].count()"
      ],
      "metadata": {
        "id": "1fi-GB3iSg-D"
      },
      "execution_count": null,
      "outputs": []
    },
    {
      "cell_type": "code",
      "source": [
        "Atk_pr_yr.plot(kind='bar',stacked=True, colormap='Dark2',title='Number of attack per year',xlabel ='Years' ,ylabel = 'Count of attack', figsize=(15,10))"
      ],
      "metadata": {
        "id": "E1bMI7JF9MoF"
      },
      "execution_count": null,
      "outputs": []
    },
    {
      "cell_type": "markdown",
      "source": [
        "Highest number of attacks were done in 2014 that was more than 16000 followed by the year 2015 and 2016. Least number of attacks were done in 1973."
      ],
      "metadata": {
        "id": "d3gJ0TRnyXk_"
      }
    },
    {
      "cell_type": "markdown",
      "source": [
        "## World Wide what are the major attack_types used?"
      ],
      "metadata": {
        "id": "rwGlORTve_It"
      }
    },
    {
      "cell_type": "code",
      "source": [
        "Atk_typ = df.groupby(['attack_type'])['attack_type'].count()\n",
        "Atk_typ "
      ],
      "metadata": {
        "id": "L_89spXqAd-1"
      },
      "execution_count": null,
      "outputs": []
    },
    {
      "cell_type": "code",
      "source": [
        "Atk_typ.plot(kind = 'pie', figsize=(6,6), autopct = '%.4f')\n",
        "plt.title('World wide Attack types') "
      ],
      "metadata": {
        "id": "0fpyAyySGXZk"
      },
      "execution_count": null,
      "outputs": []
    },
    {
      "cell_type": "markdown",
      "source": [
        "world-wide 48.57% attacks were of Bombing and Explosion followed by Armed Assault 23.48%  and 10% assassination. The least used attacktype are hostage Taking(Barricade Incident) and hijacking"
      ],
      "metadata": {
        "id": "Ax5PBunJ0osb"
      }
    },
    {
      "cell_type": "markdown",
      "source": [
        "## Geographic Representation on Map, in which places attacks have been done since 1970"
      ],
      "metadata": {
        "id": "mCG3vwKNfk3E"
      }
    },
    {
      "cell_type": "code",
      "source": [
        "fig = px.scatter_geo(df,lat='latitude',lon='longitude')\n",
        "fig.update_layout(title = 'Attacks throughout the world', title_x=0.5)\n",
        "fig.show()"
      ],
      "metadata": {
        "id": "hLU0Wk2uGd5Y"
      },
      "execution_count": null,
      "outputs": []
    },
    {
      "cell_type": "markdown",
      "source": [
        "From this map it can be assumed that countries like Greenland,Australia, sweden, norway, States of USA like Alaska, Northern Canada and north east of Russia are among very peaceful places throughout the world."
      ],
      "metadata": {
        "id": "w3r04mAln2C4"
      }
    },
    {
      "cell_type": "markdown",
      "source": [
        "##Top 6 highly attacked regions in india with different attack types"
      ],
      "metadata": {
        "id": "mlLtYNjRgVlD"
      }
    },
    {
      "cell_type": "code",
      "source": [
        "prov_df = df.loc[df['country_name'] == 'India' ]\n",
        "prov_df = prov_df.groupby(['provstate'])['provstate'].count().reset_index(name='count').sort_values(['count'],ascending = False).head(6)"
      ],
      "metadata": {
        "id": "28W26KuCJXJv"
      },
      "execution_count": null,
      "outputs": []
    },
    {
      "cell_type": "code",
      "source": [
        "prov_df.head(6)"
      ],
      "metadata": {
        "id": "syfq5lIKo8Nu"
      },
      "execution_count": null,
      "outputs": []
    },
    {
      "cell_type": "code",
      "source": [
        "plt.figure(1)\n",
        "count = 1\n",
        "for prov in prov_df['provstate']:\n",
        "  new_df = df.loc[df['provstate']==prov]\n",
        "  Atk_typ = new_df.groupby(['attack_type'])['attack_type'].count()\n",
        "  plt.subplot(3,2,count)\n",
        "  plt.title(prov)\n",
        "  Atk_typ.plot(kind = 'barh', figsize = (21,30))\n",
        "  #Atk_typ.plot(kind = 'pie', figsize = (21,20), autopct = '%.4f', labeldistance= 1.2) # uncomment line to create pie chart \n",
        "  count+=1"
      ],
      "metadata": {
        "id": "SOFHf4htxOnj"
      },
      "execution_count": null,
      "outputs": []
    },
    {
      "cell_type": "markdown",
      "source": [
        "These are the most attacked states in india from 1970. Jammu & Kashmir is leading this Index followed by Assam, manipur, chattishgarh, punjab and jharkhand. Attack type varies state to state again Bombing and Explosion being the most used."
      ],
      "metadata": {
        "id": "UswojdcTomU0"
      }
    },
    {
      "cell_type": "markdown",
      "source": [
        "## Weapon used per Attacktype in India"
      ],
      "metadata": {
        "id": "ddHn5uAIlhgB"
      }
    },
    {
      "cell_type": "code",
      "source": [
        "ind = df.loc[df['country_name'] == 'India'].groupby(['attack_type', 'weapon']).size().reset_index()\n",
        "\n",
        "fig = px.treemap(ind, path=['attack_type', 'weapon'],\n",
        "                 values=0,\n",
        "                 color='weapon')\n",
        "fig.show()"
      ],
      "metadata": {
        "id": "BCZfK5m044XK"
      },
      "execution_count": null,
      "outputs": []
    },
    {
      "cell_type": "markdown",
      "source": [
        "In India , mostly Explosives have been used in Bombing and Explosion being the highest attack type in india. Next is Armed Assault where Firearms are mostly used weapons others include Melee, Explosives and Incendiary.\n",
        "Based on the treemap it can be said that Most preferred weapons are firearms apart from Bombing and explosion."
      ],
      "metadata": {
        "id": "hwepDpGDrtOT"
      }
    },
    {
      "cell_type": "markdown",
      "source": [
        "##Number of attacks per attack type in top 10 most attacked countries ?"
      ],
      "metadata": {
        "id": "AktQz3WFhcmt"
      }
    },
    {
      "cell_type": "code",
      "source": [
        "df.head() "
      ],
      "metadata": {
        "id": "pKBEx0z6CKY4"
      },
      "execution_count": null,
      "outputs": []
    },
    {
      "cell_type": "code",
      "source": [
        "per_country_attack = df.groupby(['country_name','attack_type'])['attack_type'].size().reset_index(name='size')"
      ],
      "metadata": {
        "id": "I1zTpI52UocY"
      },
      "execution_count": null,
      "outputs": []
    },
    {
      "cell_type": "code",
      "source": [
        "attack = per_country_attack.groupby(['country_name','attack_type'])['size'].sum()"
      ],
      "metadata": {
        "id": "99fP86CilewX"
      },
      "execution_count": null,
      "outputs": []
    },
    {
      "cell_type": "code",
      "source": [
        "nation_atk_count = {}\n",
        "for country in list(per_country_attack['country_name']):\n",
        "  if country not in nation_atk_count.values():\n",
        "    nation_atk_count[country] = per_country_attack[per_country_attack['country_name'] == country]['size'].sum()\n",
        "nation_atk_count = sorted(nation_atk_count.items(), key=lambda x:x[1], reverse = True)\n",
        "sort_nation_atk_count = dict(nation_atk_count)\n",
        "print(sort_nation_atk_count)\n"
      ],
      "metadata": {
        "id": "3f5kKrzhuv-u"
      },
      "execution_count": null,
      "outputs": []
    },
    {
      "cell_type": "code",
      "source": [
        "atk_df = per_country_attack[per_country_attack['country_name'].isin(list(sort_nation_atk_count.keys())[0:10])]"
      ],
      "metadata": {
        "id": "PSoaVlfxAelG"
      },
      "execution_count": null,
      "outputs": []
    },
    {
      "cell_type": "code",
      "source": [
        "atk_df.head()"
      ],
      "metadata": {
        "id": "-_Y-gKK0waym"
      },
      "execution_count": null,
      "outputs": []
    },
    {
      "cell_type": "code",
      "source": [
        "pivot = atk_df.pivot(index='country_name', columns='attack_type', values='size')\n",
        "pivot"
      ],
      "metadata": {
        "id": "UICANo9YcjYo"
      },
      "execution_count": null,
      "outputs": []
    },
    {
      "cell_type": "code",
      "source": [
        "ax = sns.heatmap(pivot,annot=False,linewidths=1, linecolor = 'white', cmap=\"icefire\")  \n",
        "plt.show()"
      ],
      "metadata": {
        "id": "lopHoVAKjpz_"
      },
      "execution_count": null,
      "outputs": []
    },
    {
      "cell_type": "markdown",
      "source": [
        "In these Top 10 Most Attacked Countries Iraq was enormously attacked by Bombing and Explosions outreaching the sum of any two attack_types throughout the globe.it was attacked 18000+ times by bombing. Second name is of Afganistan Again in Bombing and explosion.\n",
        "If we compare the attack type used in these top 10 highest attacked countries ranking would be(1: Bombing/Explosion, 2:Armed Assault, 3: Assassination)"
      ],
      "metadata": {
        "id": "ninxrkmysSHJ"
      }
    },
    {
      "cell_type": "markdown",
      "source": [
        "## Terrorist group attacking most number of times?"
      ],
      "metadata": {
        "id": "-s4IxbgLpsLN"
      }
    },
    {
      "cell_type": "code",
      "source": [
        "df.head(2)"
      ],
      "metadata": {
        "id": "M0-EK_7c3eMs"
      },
      "execution_count": null,
      "outputs": []
    },
    {
      "cell_type": "code",
      "source": [
        "new = df.groupby(['gang'])['gang'].count().reset_index(name='count').sort_values(['count']).tail(10)\n",
        "new.drop(3408, inplace=True)\n",
        "\n",
        "plt.figure(figsize = (8,8))\n",
        "plt.pie(new['count'],labels= new['gang'] , autopct = '%.2f', labeldistance=0.9)\n",
        "#plt.legend()\n",
        "plt.show()"
      ],
      "metadata": {
        "id": "UGdp150Dp5bs"
      },
      "execution_count": null,
      "outputs": []
    },
    {
      "cell_type": "markdown",
      "source": [
        "Worldwide nearly 70.50 Attacks were done by unknown Groups. \n",
        "If we talk about grouped attacks the highest known active terrorist group is Taliban undertking 6.37% of global attacks followed by ISIL, and Shining Path(SL) group"
      ],
      "metadata": {
        "id": "o0bUiaRu3WuY"
      }
    },
    {
      "cell_type": "code",
      "source": [
        "pip install geopandas\n",
        "import geopandas as gpd"
      ],
      "metadata": {
        "id": "puWRo7vNB9e1"
      },
      "execution_count": null,
      "outputs": []
    },
    {
      "cell_type": "code",
      "source": [
        "shp_gdf = gpd.read_file('/content/drive/MyDrive/Datasets/Shapefile/India_State_Boundary.shp')\n",
        "shp_gdf.reset_index(inplace=True)\n",
        "shp_gdf.sort_values('Name', inplace = True)"
      ],
      "metadata": {
        "id": "NhhpxafFCBrV"
      },
      "execution_count": null,
      "outputs": []
    },
    {
      "cell_type": "code",
      "source": [
        "states_count = india_df.groupby(['Province/State'])['Province/State'].count()\n",
        "states_count = states_count.to_frame()\n"
      ],
      "metadata": {
        "id": "d1SJ8B7jCLrm"
      },
      "execution_count": null,
      "outputs": []
    },
    {
      "cell_type": "code",
      "source": [
        "states_count.rename(columns={'Province/State':'State','Province/State':'Values'}, inplace=True)\n",
        "states_count.head()"
      ],
      "metadata": {
        "id": "zYN8F6_SCONr"
      },
      "execution_count": null,
      "outputs": []
    },
    {
      "cell_type": "code",
      "source": [
        "num_of_attacks = [0,292,24,1151,688,47,979,0,208,5,85,50,24,2454,887,71,98,2454,0,75,302,1100,294,27,115,649,2,949,43,4,164,24,117,201,24,650]"
      ],
      "metadata": {
        "id": "5fSXh4y2CRwr"
      },
      "execution_count": null,
      "outputs": []
    },
    {
      "cell_type": "code",
      "source": [
        "shp_gdf['Attacks']=num_of_attacks\n",
        "shp_gdf.head()"
      ],
      "metadata": {
        "id": "uvyLwwYJCU82"
      },
      "execution_count": null,
      "outputs": []
    },
    {
      "cell_type": "code",
      "source": [
        "fig, ax = plt.subplots(1, figsize=(12, 12))\n",
        "ax.axis('off')\n",
        "ax.set_title('Statewise Attacks in India',\n",
        "             fontdict={'fontsize': '15', 'fontweight' : '3'})\n",
        "fig = shp_gdf.plot(column='Attacks', cmap='OrRd', linewidth=0.5, ax=ax, edgecolor='0.2',legend=True)"
      ],
      "metadata": {
        "id": "5xvsSJ7ECfzF"
      },
      "execution_count": null,
      "outputs": []
    }
  ]
}